{
 "cells": [
  {
   "cell_type": "markdown",
   "metadata": {},
   "source": [
    "## Linear regression using grid and random searches"
   ]
  },
  {
   "cell_type": "code",
   "execution_count": 11,
   "metadata": {
    "collapsed": true
   },
   "outputs": [],
   "source": [
    "import numpy as np\n",
    "import matplotlib.pyplot as plt\n",
    "%matplotlib inline"
   ]
  },
  {
   "cell_type": "markdown",
   "metadata": {},
   "source": [
    "Let us try to model generate random data for the model `y = 3x + 2` and then fit a linear model to predict the values of m and c."
   ]
  },
  {
   "cell_type": "markdown",
   "metadata": {},
   "source": [
    "## Generating the data"
   ]
  },
  {
   "cell_type": "code",
   "execution_count": 13,
   "metadata": {},
   "outputs": [
    {
     "data": {
      "image/png": "[encoded data removed]",
      "text/plain": [
       "<matplotlib.figure.Figure at 0x1131e81d0>"
      ]
     },
     "metadata": {},
     "output_type": "display_data"
    }
   ],
   "source": [
    "# Generating data\n",
    "x = np.random.rand(20)\n",
    "y = 3 * x + 2 + np.random.rand(20)\n",
    "\n",
    "# Plotting data\n",
    "plt.figure(figsize=(10,5))\n",
    "plt.plot(x,y, 'r.')\n",
    "plt.show()"
   ]
  },
  {
   "cell_type": "code",
   "execution_count": 105,
   "metadata": {
    "collapsed": true
   },
   "outputs": [],
   "source": [
    "# Writing the los function\n",
    "def loss(y, y_pred):\n",
    "    return np.sum(np.square(y-y_pred))"
   ]
  },
  {
   "cell_type": "markdown",
   "metadata": {},
   "source": [
    "## Doing grid search to find the values"
   ]
  },
  {
   "cell_type": "code",
   "execution_count": 142,
   "metadata": {
    "scrolled": true
   },
   "outputs": [
    {
     "name": "stdout",
     "output_type": "stream",
     "text": [
      "Updated (w, b, loss): (0.00,0.00, 359.75)\n",
      "Updated (w, b, loss): (0.00,0.10, 343.40)\n",
      "Updated (w, b, loss): (0.00,0.20, 327.45)\n",
      "Updated (w, b, loss): (0.00,0.30, 311.90)\n",
      "Updated (w, b, loss): (0.00,0.40, 296.75)\n",
      "Updated (w, b, loss): (0.00,0.50, 282.00)\n",
      "Updated (w, b, loss): (0.00,0.60, 267.66)\n",
      "Updated (w, b, loss): (0.00,0.70, 253.71)\n",
      "Updated (w, b, loss): (0.00,0.80, 240.16)\n",
      "Updated (w, b, loss): (0.00,0.90, 227.01)\n",
      "Updated (w, b, loss): (0.00,1.00, 214.26)\n",
      "Updated (w, b, loss): (0.00,1.10, 201.91)\n",
      "Updated (w, b, loss): (0.00,1.20, 189.96)\n",
      "Updated (w, b, loss): (0.00,1.30, 178.42)\n",
      "Updated (w, b, loss): (0.00,1.40, 167.27)\n",
      "Updated (w, b, loss): (0.00,1.50, 156.52)\n",
      "Updated (w, b, loss): (0.00,1.60, 146.17)\n",
      "Updated (w, b, loss): (0.00,1.70, 136.22)\n",
      "Updated (w, b, loss): (0.00,1.80, 126.67)\n",
      "Updated (w, b, loss): (0.00,1.90, 117.52)\n",
      "Updated (w, b, loss): (0.00,2.00, 108.78)\n",
      "Updated (w, b, loss): (0.00,2.10, 100.43)\n",
      "Updated (w, b, loss): (0.00,2.20, 92.48)\n",
      "Updated (w, b, loss): (0.00,2.30, 84.93)\n",
      "Updated (w, b, loss): (0.00,2.40, 77.78)\n",
      "Updated (w, b, loss): (0.00,2.50, 71.03)\n",
      "Updated (w, b, loss): (0.00,2.60, 64.69)\n",
      "Updated (w, b, loss): (0.00,2.70, 58.74)\n",
      "Updated (w, b, loss): (0.00,2.80, 53.19)\n",
      "Updated (w, b, loss): (0.00,2.90, 48.04)\n",
      "Updated (w, b, loss): (0.00,3.00, 43.29)\n",
      "Updated (w, b, loss): (0.00,3.10, 38.94)\n",
      "Updated (w, b, loss): (0.00,3.20, 34.99)\n",
      "Updated (w, b, loss): (0.00,3.30, 31.45)\n",
      "Updated (w, b, loss): (0.00,3.40, 28.30)\n",
      "Updated (w, b, loss): (0.00,3.50, 25.55)\n",
      "Updated (w, b, loss): (0.00,3.60, 23.20)\n",
      "Updated (w, b, loss): (0.00,3.70, 21.25)\n",
      "Updated (w, b, loss): (0.00,3.80, 19.70)\n",
      "Updated (w, b, loss): (0.00,3.90, 18.55)\n",
      "Updated (w, b, loss): (0.00,4.00, 17.81)\n",
      "Updated (w, b, loss): (0.00,4.10, 17.46)\n",
      "Updated (w, b, loss): (0.10,3.90, 17.09)\n",
      "Updated (w, b, loss): (0.10,4.00, 16.55)\n",
      "Updated (w, b, loss): (0.10,4.10, 16.42)\n",
      "Updated (w, b, loss): (0.20,3.90, 15.77)\n",
      "Updated (w, b, loss): (0.20,4.00, 15.45)\n",
      "Updated (w, b, loss): (0.30,3.80, 15.10)\n",
      "Updated (w, b, loss): (0.30,3.90, 14.60)\n",
      "Updated (w, b, loss): (0.30,4.00, 14.50)\n",
      "Updated (w, b, loss): (0.40,3.80, 13.87)\n",
      "Updated (w, b, loss): (0.40,3.90, 13.58)\n",
      "Updated (w, b, loss): (0.50,3.70, 13.25)\n",
      "Updated (w, b, loss): (0.50,3.80, 12.78)\n",
      "Updated (w, b, loss): (0.50,3.90, 12.72)\n",
      "Updated (w, b, loss): (0.60,3.70, 12.10)\n",
      "Updated (w, b, loss): (0.60,3.80, 11.85)\n",
      "Updated (w, b, loss): (0.70,3.60, 11.53)\n",
      "Updated (w, b, loss): (0.70,3.70, 11.10)\n",
      "Updated (w, b, loss): (0.70,3.80, 11.07)\n",
      "Updated (w, b, loss): (0.80,3.60, 10.47)\n",
      "Updated (w, b, loss): (0.80,3.70, 10.26)\n",
      "Updated (w, b, loss): (0.90,3.50, 9.96)\n",
      "Updated (w, b, loss): (0.90,3.60, 9.56)\n",
      "Updated (w, b, loss): (1.00,3.40, 9.56)\n",
      "Updated (w, b, loss): (1.00,3.50, 8.98)\n",
      "Updated (w, b, loss): (1.00,3.60, 8.80)\n",
      "Updated (w, b, loss): (1.10,3.40, 8.52)\n",
      "Updated (w, b, loss): (1.10,3.50, 8.15)\n",
      "Updated (w, b, loss): (1.20,3.40, 7.62)\n",
      "Updated (w, b, loss): (1.20,3.50, 7.48)\n",
      "Updated (w, b, loss): (1.30,3.30, 7.21)\n",
      "Updated (w, b, loss): (1.30,3.40, 6.88)\n",
      "Updated (w, b, loss): (1.40,3.30, 6.41)\n",
      "Updated (w, b, loss): (1.40,3.40, 6.29)\n",
      "Updated (w, b, loss): (1.50,3.20, 6.05)\n",
      "Updated (w, b, loss): (1.50,3.30, 5.75)\n",
      "Updated (w, b, loss): (1.60,3.20, 5.32)\n",
      "Updated (w, b, loss): (1.60,3.30, 5.25)\n",
      "Updated (w, b, loss): (1.70,3.10, 5.01)\n",
      "Updated (w, b, loss): (1.70,3.20, 4.75)\n",
      "Updated (w, b, loss): (1.80,3.10, 4.38)\n",
      "Updated (w, b, loss): (1.80,3.20, 4.33)\n",
      "Updated (w, b, loss): (1.90,3.00, 4.12)\n",
      "Updated (w, b, loss): (1.90,3.10, 3.89)\n",
      "Updated (w, b, loss): (2.00,3.00, 3.57)\n",
      "Updated (w, b, loss): (2.00,3.10, 3.56)\n",
      "Updated (w, b, loss): (2.10,2.90, 3.36)\n",
      "Updated (w, b, loss): (2.10,3.00, 3.17)\n",
      "Updated (w, b, loss): (2.20,2.90, 2.90)\n",
      "Updated (w, b, loss): (2.30,2.80, 2.74)\n",
      "Updated (w, b, loss): (2.30,2.90, 2.58)\n",
      "Updated (w, b, loss): (2.40,2.80, 2.36)\n",
      "Updated (w, b, loss): (2.50,2.70, 2.26)\n",
      "Updated (w, b, loss): (2.50,2.80, 2.13)\n",
      "Updated (w, b, loss): (2.60,2.70, 1.96)\n",
      "Updated (w, b, loss): (2.70,2.60, 1.91)\n",
      "Updated (w, b, loss): (2.70,2.70, 1.82)\n",
      "Updated (w, b, loss): (2.80,2.60, 1.70)\n",
      "Updated (w, b, loss): (2.90,2.50, 1.70)\n",
      "Updated (w, b, loss): (2.90,2.60, 1.64)\n",
      "Updated (w, b, loss): (3.00,2.50, 1.58)\n"
     ]
    }
   ],
   "source": [
    "x_range = np.arange(0,1,0.05)\n",
    "w_range = np.arange(0,5,0.1)\n",
    "b_range = np.arange(0,5,0.1)\n",
    "# b_range = np.array([2])\n",
    "\n",
    "error = 1000\n",
    "\n",
    "# Doing a grid search\n",
    "for w in w_range:\n",
    "    for b in b_range:\n",
    "        \n",
    "        y_pred = w * x + b\n",
    "        present_loss = loss(y, y_pred)\n",
    "        \n",
    "        if(present_loss < error):\n",
    "            error = loss(y, y_pred)\n",
    "            final_w = w\n",
    "            final_b = b\n",
    "            print(\"Updated (w, b, loss): ({:2.2f},{:2.2f}, {:2.2f})\".format(w,b,loss(y,y_pred)))"
   ]
  },
  {
   "cell_type": "code",
   "execution_count": 143,
   "metadata": {},
   "outputs": [
    {
     "data": {
      "image/png": "[encoded data removed]",
      "text/plain": [
       "<matplotlib.figure.Figure at 0x1135f4e80>"
      ]
     },
     "metadata": {},
     "output_type": "display_data"
    }
   ],
   "source": [
    "w = final_w; b = final_b\n",
    "y_range = w * x_range + b\n",
    "y_pred = w * x + b\n",
    "plt.plot(x_range, y_range)\n",
    "plt.plot(x, y, 'r.')\n",
    "plt.title('w = {:2.2f}, b = {:2.2f}, loss: {:2.2f}'.format(w, b, loss(y,y_pred)))\n",
    "plt.show()"
   ]
  },
  {
   "cell_type": "markdown",
   "metadata": {},
   "source": [
    "## Doing random search to find the values"
   ]
  },
  {
   "cell_type": "code",
   "execution_count": 144,
   "metadata": {},
   "outputs": [
    {
     "name": "stdout",
     "output_type": "stream",
     "text": [
      "Updated (w, b, loss): (4.16, 0.45, 44.56)\n",
      "Updated (w, b, loss): (3.06, 2.72, 2.75)\n",
      "Updated (w, b, loss): (2.61, 2.76, 1.96)\n",
      "Updated (w, b, loss): (2.99, 2.50, 1.58)\n",
      "Updated (w, b, loss): (3.06, 2.47, 1.56)\n"
     ]
    }
   ],
   "source": [
    "numberOfTrails = 2000\n",
    "w_trails = np.random.rand(numberOfTrails)*5\n",
    "b_trails = np.random.rand(numberOfTrails)*5\n",
    "\n",
    "error = 1000\n",
    "\n",
    "for i in range(numberOfTrails):\n",
    "    w = w_trails[i]; b = b_trails[i]\n",
    "    \n",
    "    y_pred = w * x + b\n",
    "    present_loss = loss(y, y_pred)\n",
    "\n",
    "    if(present_loss < error):\n",
    "        error = loss(y, y_pred)\n",
    "        final_w = w\n",
    "        final_b = b\n",
    "        print(\"Updated (w, b, loss): ({:2.2f}, {:2.2f}, {:2.2f})\".format(w,b,loss(y,y_pred)))"
   ]
  },
  {
   "cell_type": "code",
   "execution_count": 145,
   "metadata": {},
   "outputs": [
    {
     "data": {
      "image/png": "[encoded data removed]",
      "text/plain": [
       "<matplotlib.figure.Figure at 0x113a73c88>"
      ]
     },
     "metadata": {},
     "output_type": "display_data"
    }
   ],
   "source": [
    "w = final_w; b = final_b\n",
    "y_range = w * x_range + b\n",
    "y_pred = w * x + b\n",
    "plt.plot(x_range, y_range)\n",
    "plt.plot(x, y, 'r.')\n",
    "plt.title('w = {:2.2f}, b = {:2.2f}, loss: {:2.2f}'.format(w, b, loss(y,y_pred)))\n",
    "plt.show()"
   ]
  },
  {
   "cell_type": "code",
   "execution_count": null,
   "metadata": {
    "collapsed": true
   },
   "outputs": [],
   "source": []
  }
 ],
 "metadata": {
  "kernelspec": {
   "display_name": "Python 3",
   "language": "python",
   "name": "python3"
  },
  "language_info": {
   "codemirror_mode": {
    "name": "ipython",
    "version": 3
   },
   "file_extension": ".py",
   "mimetype": "text/x-python",
   "name": "python",
   "nbconvert_exporter": "python",
   "pygments_lexer": "ipython3",
   "version": "3.6.1"
  },
  "varInspector": {
   "cols": {
    "lenName": 16,
    "lenType": 16,
    "lenVar": 40
   },
   "kernels_config": {
    "python": {
     "delete_cmd_postfix": "",
     "delete_cmd_prefix": "del ",
     "library": "var_list.py",
     "varRefreshCmd": "print(var_dic_list())"
    },
    "r": {
     "delete_cmd_postfix": ") ",
     "delete_cmd_prefix": "rm(",
     "library": "var_list.r",
     "varRefreshCmd": "cat(var_dic_list()) "
    }
   },
   "types_to_exclude": [
    "module",
    "function",
    "builtin_function_or_method",
    "instance",
    "_Feature"
   ],
   "window_display": false
  }
 },
 "nbformat": 4,
 "nbformat_minor": 2
}
