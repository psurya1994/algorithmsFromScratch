{
 "cells": [
  {
   "cell_type": "markdown",
   "metadata": {},
   "source": [
    "Implementing the quiz question here in code:\n",
    "- Link 1: https://classroom.udacity.com/courses/ud600/lessons/4100878601/concepts/6512308860923\n",
    "- Link 2: https://www.youtube.com/watch?time_continue=4&v=3kMLVzOK6D0 (video embedded below too, watch it for better understanding of the problem)"
   ]
  },
  {
   "cell_type": "code",
   "execution_count": 1,
   "metadata": {
    "collapsed": false,
    "scrolled": true
   },
   "outputs": [
    {
     "data": {
      "text/html": [
       "<iframe width=\"560\" height=\"315\" src=\"https://www.youtube.com/embed/3kMLVzOK6D0?rel=0&amp;controls=0&amp;showinfo=0\" frameborder=\"0\" allowfullscreen></iframe>"
      ],
      "text/plain": [
       "<IPython.core.display.HTML object>"
      ]
     },
     "execution_count": 1,
     "metadata": {},
     "output_type": "execute_result"
    }
   ],
   "source": [
    "from IPython.display import HTML\n",
    "\n",
    "# Youtube\n",
    "HTML('<iframe width=\"560\" height=\"315\" src=\"https://www.youtube.com/embed/3kMLVzOK6D0?rel=0&amp;controls=0&amp;showinfo=0\" frameborder=\"0\" allowfullscreen></iframe>')"
   ]
  },
  {
   "cell_type": "code",
   "execution_count": 2,
   "metadata": {
    "collapsed": true
   },
   "outputs": [],
   "source": [
    "# Importing libraries\n",
    "import numpy as np\n",
    "import matplotlib.pyplot as plt\n",
    "%matplotlib inline"
   ]
  },
  {
   "cell_type": "markdown",
   "metadata": {},
   "source": [
    "## Function for visualization of the map, utility and reward"
   ]
  },
  {
   "cell_type": "code",
   "execution_count": 43,
   "metadata": {
    "collapsed": false
   },
   "outputs": [],
   "source": [
    "def visualizeUtlitiyFunction(U, limits=np.array([-2, 2])):\n",
    "    plt.figure()\n",
    "    # plt.imshow(U)\n",
    "    plt.imshow(np.reshape(U, newshape=(3,4)),\n",
    "                interpolation='none', vmin=limits[0], vmax=limits[1])\n",
    "    ax = plt.gca()\n",
    "    \n",
    "    # Major ticks\n",
    "    ax.set_xticks(np.arange(0, 4, 1));\n",
    "    ax.set_yticks(np.arange(0, 3, 1));\n",
    "\n",
    "    # Labels for major ticks\n",
    "    ax.set_xticklabels(np.arange(0, 4, 1));\n",
    "    ax.set_yticklabels(np.arange(0, 3, 1));\n",
    "    \n",
    "    # Minor ticks\n",
    "    ax.set_xticks(np.arange(-.5, 4, 1), minor=True);\n",
    "    ax.set_yticks(np.arange(-.5, 3, 1), minor=True);\n",
    "    \n",
    "    ax.grid(which='minor',color='k', linestyle='-', linewidth=2)\n",
    "    plt.colorbar()\n",
    "    plt.show()"
   ]
  },
  {
   "cell_type": "markdown",
   "metadata": {},
   "source": [
    "## Defining the grid world in code: utility, reward and map"
   ]
  },
  {
   "cell_type": "code",
   "execution_count": 44,
   "metadata": {
    "collapsed": false
   },
   "outputs": [
    {
     "data": {
      "image/png": "[encoded data removed]",
      "text/plain": [
       "<matplotlib.figure.Figure at 0x7f0d83ea04e0>"
      ]
     },
     "metadata": {},
     "output_type": "display_data"
    }
   ],
   "source": [
    "# Utility function of the grid world (defined in code)\n",
    "U = np.zeros((3, 4))\n",
    "U[0, 3] = 1\n",
    "U[1, 3] = -1\n",
    "\n",
    "visualizeUtlitiyFunction(U)"
   ]
  },
  {
   "cell_type": "code",
   "execution_count": 5,
   "metadata": {
    "collapsed": false
   },
   "outputs": [
    {
     "data": {
      "image/png": "[encoded data removed]",
      "text/plain": [
       "<matplotlib.figure.Figure at 0x7f0d868f6b38>"
      ]
     },
     "metadata": {},
     "output_type": "display_data"
    }
   ],
   "source": [
    "# Reward function\n",
    "R = -0.04 * np.ones((3, 4))\n",
    "R[0, 3] = 1\n",
    "R[1, 3] = -1\n",
    "visualizeUtlitiyFunction(R)"
   ]
  },
  {
   "cell_type": "code",
   "execution_count": 6,
   "metadata": {
    "collapsed": false
   },
   "outputs": [
    {
     "data": {
      "image/png": "[encoded data removed]",
      "text/plain": [
       "<matplotlib.figure.Figure at 0x7f0d847d8f28>"
      ]
     },
     "metadata": {},
     "output_type": "display_data"
    }
   ],
   "source": [
    "# Map function\n",
    "gridMap = 0 * np.ones((3, 4)) # 0 -> normal cell, 1 -> goal cell, -1 -> die cell, -2 -> block cell\n",
    "gridMap[0, 3] = 1\n",
    "gridMap[1, 3] = -1\n",
    "gridMap[1, 1] = -2\n",
    "visualizeUtlitiyFunction(gridMap)"
   ]
  },
  {
   "cell_type": "markdown",
   "metadata": {},
   "source": [
    "## Modeling and testing the physics of the world"
   ]
  },
  {
   "cell_type": "code",
   "execution_count": 7,
   "metadata": {
    "collapsed": false
   },
   "outputs": [],
   "source": [
    "def isStateSame(state1, state2, debug=False):\n",
    "    if(debug):\n",
    "        print(\"States are: \", state1, state2)\n",
    "    if((state1[0]==state2[0]) and (state1[1]==state2[1])):\n",
    "        if(debug):\n",
    "            print(\"same state\")\n",
    "        return 1.0\n",
    "    else:\n",
    "        return 0.0"
   ]
  },
  {
   "cell_type": "code",
   "execution_count": 8,
   "metadata": {
    "collapsed": false
   },
   "outputs": [],
   "source": [
    "# Defining physics of the world T(s,a,s')\n",
    "def T(presentState, action, nextState, debug=False):\n",
    "    '''\n",
    "        Returns a probability given the present state, next state and action.\n",
    "    '''\n",
    "    x1 = presentState[0]; y1 = presentState[1]\n",
    "    x2 = nextState[0]; y2 = nextState[1]\n",
    "    \n",
    "    # Checking adjacency\n",
    "    adjacencyValue = np.absolute(x1 - x2) + np.absolute(y1 - y2)\n",
    "    \n",
    "    if(not adjacencyValue <= 1):\n",
    "        if(debug):\n",
    "            print(\"adjacencyValue is <= 1\")\n",
    "            print(\"adjacencyValue = \", adjacencyValue, \"; hence probability estimate is 0\")\n",
    "            \n",
    "        return 0\n",
    "    \n",
    "    # apply action, get state (if same as next state: 0.8 score)\n",
    "    nextStateEst1 = estimateNextState(presentState, action)\n",
    "    # apply action + 1, get state (if same as next state: 0.1 score)\n",
    "    nextStateEst2 = estimateNextState(presentState, (action + 1) % 4)\n",
    "    # apply action - 1, get state (if same as next state: 0.1 score)\n",
    "    nextStateEst3 = estimateNextState(presentState, (action - 1) % 4)\n",
    "    \n",
    "    probabilityValue = 0.8 * isStateSame(nextState,nextStateEst1) + 0.1 * isStateSame(nextState, nextStateEst2) + 0.1 * isStateSame(nextState, nextStateEst3)\n",
    "    \n",
    "    if(debug):\n",
    "        print(\"Estimated next states are: \", nextStateEst1, nextStateEst2, nextStateEst3)\n",
    "        print(\"isStateSame values are: \", isStateSame(nextState,nextStateEst1), isStateSame(nextState,nextStateEst2), isStateSame(nextState,nextStateEst3))\n",
    "        print(\"probabilityValue: \", probabilityValue)\n",
    "        \n",
    "    return probabilityValue"
   ]
  },
  {
   "cell_type": "code",
   "execution_count": 9,
   "metadata": {
    "collapsed": false
   },
   "outputs": [],
   "source": [
    "def estimateNextState(presentState, action):\n",
    "    x = presentState[0]\n",
    "    y = presentState[1]\n",
    "    \n",
    "    if(action == 0):\n",
    "        xtemp = x; ytemp = y - 1;\n",
    "    elif(action == 1):\n",
    "        xtemp = x - 1; ytemp = y;\n",
    "    elif(action == 2):\n",
    "        xtemp = x; ytemp = y + 1;\n",
    "    elif(action == 3):\n",
    "        xtemp = x + 1; ytemp = y;\n",
    "        \n",
    "    # checking for call: (i) make sure it don't hit wall cells, or (ii) cross boundaries\n",
    "    if((xtemp < 0) or (xtemp > 2) or (ytemp < 0) or (ytemp > 3)):\n",
    "        isWall = True\n",
    "    elif((gridMap[xtemp, ytemp] == -2)):\n",
    "        isWall = True\n",
    "    else:\n",
    "        isWall = False\n",
    "        \n",
    "    if(isWall): # if it is wall\n",
    "        xtemp = x; ytemp = y; # next state same as present state\n",
    "        \n",
    "    newState = [xtemp, ytemp]\n",
    "        \n",
    "    return newState\n",
    "            "
   ]
  },
  {
   "cell_type": "code",
   "execution_count": 10,
   "metadata": {
    "collapsed": false,
    "scrolled": true
   },
   "outputs": [
    {
     "data": {
      "text/plain": [
       "0.1"
      ]
     },
     "execution_count": 10,
     "metadata": {},
     "output_type": "execute_result"
    }
   ],
   "source": [
    "T([2,3],0,[2,3],debug=False)"
   ]
  },
  {
   "cell_type": "markdown",
   "metadata": {},
   "source": [
    "## Finding the policy using value iteration method"
   ]
  },
  {
   "cell_type": "markdown",
   "metadata": {},
   "source": [
    "Algorithm:\n",
    "- Start with arbitarary utilities\n",
    "- Update utility based on neighbors\n",
    "- Repeat until convergence\n",
    "\n",
    "Initialization of utilities and rewards are already done, so not doing it again"
   ]
  },
  {
   "cell_type": "code",
   "execution_count": 11,
   "metadata": {
    "collapsed": true
   },
   "outputs": [],
   "source": [
    "import pdb"
   ]
  },
  {
   "cell_type": "code",
   "execution_count": 12,
   "metadata": {
    "collapsed": true
   },
   "outputs": [],
   "source": [
    "allPossibleStates = [(i,j) for i in range(3) for j in range(4)]"
   ]
  },
  {
   "cell_type": "code",
   "execution_count": 38,
   "metadata": {
    "collapsed": false
   },
   "outputs": [
    {
     "name": "stdout",
     "output_type": "stream",
     "text": [
      "iterations left:  2\n",
      "[[-0.04 -0.04  0.36  1.  ]\n",
      " [-0.04 -0.04 -0.04 -1.  ]\n",
      " [-0.04 -0.04 -0.04 -0.04]]\n"
     ]
    },
    {
     "data": {
      "image/png": "[encoded data removed]",
      "text/plain": [
       "<matplotlib.figure.Figure at 0x7f0d844985c0>"
      ]
     },
     "metadata": {},
     "output_type": "display_data"
    },
    {
     "name": "stdout",
     "output_type": "stream",
     "text": [
      "iterations left:  1\n",
      "[[-0.06   0.1    0.376  1.   ]\n",
      " [-0.06  -0.06   0.052 -1.   ]\n",
      " [-0.06  -0.06  -0.06  -0.06 ]]\n"
     ]
    },
    {
     "data": {
      "image/png": "[encoded data removed]",
      "text/plain": [
       "<matplotlib.figure.Figure at 0x7f0d83f49278>"
      ]
     },
     "metadata": {},
     "output_type": "display_data"
    },
    {
     "name": "stdout",
     "output_type": "stream",
     "text": [
      "end of training\n"
     ]
    }
   ],
   "source": [
    "iterations = 2; gamma = 0.5; debug=False;\n",
    "Uold = np.copy(U)\n",
    "Unew = np.empty_like(U, dtype=float)\n",
    "maxExpUtility = np.empty_like(U, dtype=float)\n",
    "\n",
    "while(iterations > 0):\n",
    "    print('iterations left: ', iterations)\n",
    "    # Finding the action that maximizes expected utility\\\n",
    "    # loop for all present states\n",
    "    for presentState in allPossibleStates:\n",
    "        utilityMax = -100\n",
    "        for acts in [0, 1, 2, 3]:\n",
    "\n",
    "            totalUtility = 0\n",
    "#             if(isStateSame(presentState, [0, 2]) and acts==2):\n",
    "#                 pdb.set_trace()\n",
    "            for nextState in allPossibleStates:\n",
    "                stateUtlity = T(presentState, acts, nextState) * Uold[nextState]\n",
    "                totalUtility = totalUtility + stateUtlity\n",
    "\n",
    "            if(utilityMax < totalUtility):\n",
    "                utilityMax = totalUtility\n",
    "\n",
    "        maxExpUtility[presentState] = utilityMax\n",
    "                \n",
    "    if(debug):\n",
    "        print(maxExpUtility)\n",
    "        print(gamma * maxExpUtility)\n",
    "        print(\"here\")\n",
    "    Unew = R + gamma * maxExpUtility\n",
    "    \n",
    "    # freezing utilities of terminal states\n",
    "    Unew[0,3]= 1   \n",
    "    Unew[1,3]= -1\n",
    "    \n",
    "    Uold = Unew\n",
    "    \n",
    "    print(Unew); visualizeUtlitiyFunction(Unew); \n",
    "\n",
    "    iterations = iterations - 1\n",
    "    \n",
    "print('end of training')"
   ]
  },
  {
   "cell_type": "markdown",
   "metadata": {},
   "source": [
    "**As it can be seen above, the values of the utility of x after 1 iteration and 2 iterations are 0.36 and 0.376 respectively! This marks the end of the assignment. Below, I'm going to do some additional iterations to get a better understanding of how the training process works.**"
   ]
  },
  {
   "cell_type": "markdown",
   "metadata": {},
   "source": [
    "## Running it for more iterations"
   ]
  },
  {
   "cell_type": "code",
   "execution_count": 39,
   "metadata": {
    "collapsed": false,
    "scrolled": true
   },
   "outputs": [
    {
     "name": "stdout",
     "output_type": "stream",
     "text": [
      "iterations left:  10\n",
      "[[-0.04 -0.04  0.36  1.  ]\n",
      " [-0.04 -0.04 -0.04 -1.  ]\n",
      " [-0.04 -0.04 -0.04 -0.04]]\n"
     ]
    },
    {
     "data": {
      "image/png": "[encoded data removed]",
      "text/plain": [
       "<matplotlib.figure.Figure at 0x7f0d83da04a8>"
      ]
     },
     "metadata": {},
     "output_type": "display_data"
    },
    {
     "name": "stdout",
     "output_type": "stream",
     "text": [
      "iterations left:  9\n",
      "[[-0.06   0.1    0.376  1.   ]\n",
      " [-0.06  -0.06   0.052 -1.   ]\n",
      " [-0.06  -0.06  -0.06  -0.06 ]]\n"
     ]
    },
    {
     "data": {
      "image/png": "[encoded data removed]",
      "text/plain": [
       "<matplotlib.figure.Figure at 0x7f0d845d0710>"
      ]
     },
     "metadata": {},
     "output_type": "display_data"
    },
    {
     "name": "stdout",
     "output_type": "stream",
     "text": [
      "iterations left:  8\n",
      "[[ -6.00000000e-03   1.20400000e-01   3.81400000e-01   1.00000000e+00]\n",
      " [ -7.00000000e-02  -4.00000000e-04   6.30000000e-02  -1.00000000e+00]\n",
      " [ -7.00000000e-02  -7.00000000e-02  -2.52000000e-02  -7.00000000e-02]]\n"
     ]
    },
    {
     "data": {
      "image/png": "[encoded data removed]",
      "text/plain": [
       "<matplotlib.figure.Figure at 0x7f0d8451fa58>"
      ]
     },
     "metadata": {},
     "output_type": "display_data"
    },
    {
     "name": "stdout",
     "output_type": "stream",
     "text": [
      "iterations left:  7\n",
      "[[ 0.00436  0.1246   0.38222  1.     ]\n",
      " [-0.0494   0.00781  0.06571 -1.     ]\n",
      " [-0.075   -0.05708 -0.0218  -0.07276]]\n"
     ]
    },
    {
     "data": {
      "image/png": "[encoded data removed]",
      "text/plain": [
       "<matplotlib.figure.Figure at 0x7f0d83f2e470>"
      ]
     },
     "metadata": {},
     "output_type": "display_data"
    },
    {
     "name": "stdout",
     "output_type": "stream",
     "text": [
      "iterations left:  6\n",
      "[[ 0.007588   0.125348   0.3823965  1.       ]\n",
      " [-0.043196   0.0106555  0.0661735 -1.       ]\n",
      " [-0.066364  -0.054428  -0.020208  -0.073832 ]]\n"
     ]
    },
    {
     "data": {
      "image/png": "[encoded data removed]",
      "text/plain": [
       "<matplotlib.figure.Figure at 0x7f0d83e39240>"
      ]
     },
     "metadata": {},
     "output_type": "display_data"
    },
    {
     "name": "stdout",
     "output_type": "stream",
     "text": [
      "iterations left:  5\n",
      "[[ 0.0083588   0.1254934   0.3824285   1.        ]\n",
      " [-0.0412844   0.01128808  0.06626728 -1.        ]\n",
      " [-0.063318   -0.053526   -0.0199436  -0.0742348 ]]\n"
     ]
    },
    {
     "data": {
      "image/png": "[encoded data removed]",
      "text/plain": [
       "<matplotlib.figure.Figure at 0x7f0d847413c8>"
      ]
     },
     "metadata": {},
     "output_type": "display_data"
    },
    {
     "name": "stdout",
     "output_type": "stream",
     "text": [
      "iterations left:  4\n",
      "[[ 0.00855108  0.12552074  0.38243479  1.        ]\n",
      " [-0.04078492  0.0114465   0.06628476 -1.        ]\n",
      " [-0.06235596 -0.05333004 -0.01988113 -0.07440284]]\n"
     ]
    },
    {
     "data": {
      "image/png": "[encoded data removed]",
      "text/plain": [
       "<matplotlib.figure.Figure at 0x7f0d84498da0>"
      ]
     },
     "metadata": {},
     "output_type": "display_data"
    },
    {
     "name": "stdout",
     "output_type": "stream",
     "text": [
      "iterations left:  3\n",
      "[[ 0.0085966   0.12552599  0.38243598  1.        ]\n",
      " [-0.04065806  0.01148329  0.06628815 -1.        ]\n",
      " [-0.06209827 -0.05328546 -0.01987274 -0.07447533]]\n"
     ]
    },
    {
     "data": {
      "image/png": "[encoded data removed]",
      "text/plain": [
       "<matplotlib.figure.Figure at 0x7f0d846687f0>"
      ]
     },
     "metadata": {},
     "output_type": "display_data"
    },
    {
     "name": "stdout",
     "output_type": "stream",
     "text": [
      "iterations left:  2\n",
      "[[ 0.00860732  0.12552699  0.38243621  1.        ]\n",
      " [-0.04062716  0.0114919   0.0662888  -1.        ]\n",
      " [-0.06203241 -0.05327764 -0.01987278 -0.07450754]]\n"
     ]
    },
    {
     "data": {
      "image/png": "[encoded data removed]",
      "text/plain": [
       "<matplotlib.figure.Figure at 0x7f0d8459be10>"
      ]
     },
     "metadata": {},
     "output_type": "display_data"
    },
    {
     "name": "stdout",
     "output_type": "stream",
     "text": [
      "iterations left:  1\n",
      "[[ 0.0086098   0.12552718  0.38243625  1.        ]\n",
      " [-0.04061979  0.01149388  0.06628892 -1.        ]\n",
      " [-0.06201637 -0.05327688 -0.01987374 -0.07452203]]\n"
     ]
    },
    {
     "data": {
      "image/png": "[encoded data removed]",
      "text/plain": [
       "<matplotlib.figure.Figure at 0x7f0d8476b4e0>"
      ]
     },
     "metadata": {},
     "output_type": "display_data"
    },
    {
     "name": "stdout",
     "output_type": "stream",
     "text": [
      "end of training\n"
     ]
    }
   ],
   "source": [
    "iterations = 10; gamma = 0.5; debug=False;\n",
    "Uold = np.copy(U)\n",
    "Unew = np.empty_like(U, dtype=float)\n",
    "maxExpUtility = np.empty_like(U, dtype=float)\n",
    "\n",
    "while(iterations > 0):\n",
    "    print('iterations left: ', iterations)\n",
    "    # Finding the action that maximizes expected utility\\\n",
    "    # loop for all present states\n",
    "    for presentState in allPossibleStates:\n",
    "        utilityMax = -100\n",
    "        for acts in [0, 1, 2, 3]:\n",
    "\n",
    "            totalUtility = 0\n",
    "#             if(isStateSame(presentState, [0, 2]) and acts==2):\n",
    "#                 pdb.set_trace()\n",
    "            for nextState in allPossibleStates:\n",
    "                stateUtlity = T(presentState, acts, nextState) * Uold[nextState]\n",
    "                totalUtility = totalUtility + stateUtlity\n",
    "\n",
    "            if(utilityMax < totalUtility):\n",
    "                utilityMax = totalUtility\n",
    "\n",
    "        maxExpUtility[presentState] = utilityMax\n",
    "                \n",
    "    if(debug):\n",
    "        print(maxExpUtility)\n",
    "        print(gamma * maxExpUtility)\n",
    "        print(\"here\")\n",
    "    Unew = R + gamma * maxExpUtility\n",
    "    \n",
    "    # freezing utilities of terminal states\n",
    "    Unew[0,3]= 1   \n",
    "    Unew[1,3]= -1\n",
    "    \n",
    "    Uold = Unew\n",
    "    \n",
    "    print(Unew); visualizeUtlitiyFunction(Unew); \n",
    "\n",
    "    iterations = iterations - 1\n",
    "    \n",
    "print('end of training')"
   ]
  },
  {
   "cell_type": "markdown",
   "metadata": {},
   "source": [
    "## As an additional thing, below is the implementation of the optimal policy too"
   ]
  },
  {
   "cell_type": "code",
   "execution_count": 45,
   "metadata": {
    "collapsed": true
   },
   "outputs": [],
   "source": [
    "policy = np.empty_like(U, dtype=int)\n",
    "# Finding optimal policy in each state\n",
    "for presentState in allPossibleStates:\n",
    "    utilityMax = -100\n",
    "    for acts in [0, 1, 2, 3]:\n",
    "\n",
    "        totalUtility = 0\n",
    "#             if(isStateSame(presentState, [0, 2]) and acts==2):\n",
    "#                 pdb.set_trace()\n",
    "        for nextState in allPossibleStates:\n",
    "            stateUtlity = T(presentState, acts, nextState) * Unew[nextState]\n",
    "            totalUtility = totalUtility + stateUtlity\n",
    "\n",
    "        if(utilityMax < totalUtility):\n",
    "            maxAct = acts\n",
    "            utilityMax = totalUtility\n",
    "\n",
    "    policy[presentState] = maxAct"
   ]
  },
  {
   "cell_type": "code",
   "execution_count": 47,
   "metadata": {
    "collapsed": false
   },
   "outputs": [
    {
     "data": {
      "image/png": "[encoded data removed]",
      "text/plain": [
       "<matplotlib.figure.Figure at 0x7f0d83e60588>"
      ]
     },
     "metadata": {},
     "output_type": "display_data"
    },
    {
     "name": "stdout",
     "output_type": "stream",
     "text": [
      "0->left 1->up 2->right 3->down\n"
     ]
    }
   ],
   "source": [
    "visualizeUtlitiyFunction(policy, limits=[0, 3])\n",
    "print('0->left 1->up 2->right 3->down')"
   ]
  },
  {
   "cell_type": "markdown",
   "metadata": {},
   "source": [
    "## Ignore everything below: rough work"
   ]
  },
  {
   "cell_type": "code",
   "execution_count": 16,
   "metadata": {
    "collapsed": false
   },
   "outputs": [
    {
     "name": "stdout",
     "output_type": "stream",
     "text": [
      "[(0, 0), (0, 1), (0, 2), (0, 3), (1, 0), (1, 1), (1, 2), (1, 3), (2, 0), (2, 1), (2, 2), (2, 3), (3, 0), (3, 1), (3, 2), (3, 3)]\n"
     ]
    }
   ],
   "source": [
    "grids = [(i,j) for i in range(4) for j in range(4)]\n",
    "print(grids)"
   ]
  },
  {
   "cell_type": "code",
   "execution_count": 5,
   "metadata": {
    "collapsed": false
   },
   "outputs": [
    {
     "data": {
      "image/png": "[encoded data removed]",
      "text/plain": [
       "<matplotlib.figure.Figure at 0x7fb65ebd85c0>"
      ]
     },
     "metadata": {},
     "output_type": "display_data"
    }
   ],
   "source": [
    "plt.figure()\n",
    "im = plt.imshow(np.reshape(np.random.rand(100), newshape=(10,10)),\n",
    "                interpolation='none', vmin=0, vmax=1, aspect='equal');\n",
    "\n",
    "# ax = plt.gca();\n",
    "ax = plt.gca();\n",
    "\n",
    "# Major ticks\n",
    "ax.set_xticks(np.arange(0, 10, 1));\n",
    "ax.set_yticks(np.arange(0, 10, 1));\n",
    "\n",
    "# Labels for major ticks\n",
    "ax.set_xticklabels(np.arange(1, 11, 1));\n",
    "ax.set_yticklabels(np.arange(1, 11, 1));\n",
    "\n",
    "# Minor ticks\n",
    "ax.set_xticks(np.arange(-.5, 10, 1), minor=True);\n",
    "ax.set_yticks(np.arange(-.5, 10, 1), minor=True);\n",
    "\n",
    "# Gridlines based on minor ticks\n",
    "ax.grid(which='minor', color='w', linestyle='-', linewidth=2)"
   ]
  },
  {
   "cell_type": "code",
   "execution_count": null,
   "metadata": {
    "collapsed": true
   },
   "outputs": [],
   "source": [
    "# Defining actions that can be taken\n",
    "actions = np.array([0, 1, 2, 3]) # 0-left, 1-up, 2-right, 3-down\n",
    "\n",
    "# Modeling the stocasticity of actions\n",
    "if(False): # might need this for monte carlo simulations in future\n",
    "    actionCommanded = action\n",
    "    randomNumber = np.random.rand(1)\n",
    "    if (randomNumber < 0.8):\n",
    "        actionExecuted = actionCommanded\n",
    "    elif(randomNumber < 0.9):\n",
    "        actionExecuted = (actionCommanded - 1) % 4\n",
    "    else:\n",
    "        actionExecuted = (actionCommanded + 1) % 4"
   ]
  },
  {
   "cell_type": "code",
   "execution_count": null,
   "metadata": {
    "collapsed": true
   },
   "outputs": [],
   "source": []
  }
 ],
 "metadata": {
  "kernelspec": {
   "display_name": "Python 3",
   "language": "python",
   "name": "python3"
  },
  "language_info": {
   "codemirror_mode": {
    "name": "ipython",
    "version": 3
   },
   "file_extension": ".py",
   "mimetype": "text/x-python",
   "name": "python",
   "nbconvert_exporter": "python",
   "pygments_lexer": "ipython3",
   "version": "3.6.0"
  }
 },
 "nbformat": 4,
 "nbformat_minor": 2
}
