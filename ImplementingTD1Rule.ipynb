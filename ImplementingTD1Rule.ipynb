{
 "cells": [
  {
   "cell_type": "markdown",
   "metadata": {},
   "source": [
    "## Implementing the TD(1) rule to solve the given state diagram\n",
    "\n",
    "This notebook is an implementation of the TD(1) rule on a quiz question on the ud600 class. More details below\n",
    "\n",
    "Implemented using this as reference: https://www.youtube.com/watch?v=rJUjAjHJ8qI (lecture on TD(1) in ud600 class)\n",
    "\n",
    "The diagram is depicted below (picked up from): https://www.youtube.com/watch?v=0ElJayK6jTo (quiz in TD(1) lectures in ud600 class)\n",
    "```\n",
    "s1 -(+1)--             ----------------- s4 -(+1)--\n",
    "         |             | (P: 0.9)                 |\n",
    "          -- s3 -(+0)---                          ----- sF\n",
    "         |             | (P: 0.1)                 |\n",
    "s2 -(+2)--             ----------------- s5 -(+10)-\n",
    "```"
   ]
  },
  {
   "cell_type": "code",
   "execution_count": 29,
   "metadata": {},
   "outputs": [],
   "source": [
    "import numpy as np"
   ]
  },
  {
   "cell_type": "code",
   "execution_count": 30,
   "metadata": {},
   "outputs": [],
   "source": [
    "# Initializing values\n",
    "totalStates = 6 # total number of states\n",
    "totalEpisodes = 5 # total number of episodes\n",
    "V0 = np.zeros(totalStates) # value function\n",
    "e = np.zeros(totalStates) # eligibility\n",
    "alphaT = 1 # learning rate\n",
    "gamma = 1 # delayed reward"
   ]
  },
  {
   "cell_type": "code",
   "execution_count": 31,
   "metadata": {},
   "outputs": [],
   "source": [
    "# steps: (sTold, sTnew, reward)\n",
    "episode1 = [[0,2,1],[2,3,0],[3,5,1]]\n",
    "episode2 = [[0,2,1],[2,4,0],[4,5,10]]\n",
    "episode3 = [[0,2,1],[2,3,0],[3,5,1]]\n",
    "episode4 = [[0,2,1],[2,3,0],[3,5,1]]\n",
    "episode5 = [[1,2,2],[2,4,0],[4,5,10]]"
   ]
  },
  {
   "cell_type": "code",
   "execution_count": 32,
   "metadata": {},
   "outputs": [],
   "source": [
    "# For a new episode T\n",
    "VoldT = V0\n",
    "e = np.zeros(totalStates) # initialize eligibility to 0\n",
    "VnewT = VoldT.copy() # set the new value function equal to old\n",
    "\n",
    "# Run this loop: 1 iteration == 1 step\n",
    "for value in episode5:\n",
    "    \n",
    "    # increase eligbility for the state we just left\n",
    "    e[value[0]] = e[value[0]] + 1\n",
    "    \n",
    "    # update the value of value function for all s\n",
    "    VnewT = VnewT + alphaT * e * (value[2] + gamma * VoldT[value[1]] - VoldT[value[0]])\n",
    "    \n",
    "    # decay eligibility\n",
    "    e = gamma * e\n",
    "\n",
    "VoldT = VnewT.copy() # store the generated value function"
   ]
  },
  {
   "cell_type": "code",
   "execution_count": 34,
   "metadata": {},
   "outputs": [
    {
     "name": "stdout",
     "output_type": "stream",
     "text": [
      "[ 0. 12. 10.  0. 10.  0.]\n",
      "the answer for the quiz question:  12.0\n"
     ]
    }
   ],
   "source": [
    "print(VnewT)\n",
    "print('the answer for the quiz question: ', VnewT[1])"
   ]
  },
  {
   "cell_type": "code",
   "execution_count": null,
   "metadata": {},
   "outputs": [],
   "source": []
  },
  {
   "cell_type": "code",
   "execution_count": null,
   "metadata": {},
   "outputs": [],
   "source": []
  }
 ],
 "metadata": {
  "kernelspec": {
   "display_name": "Python 3",
   "language": "python",
   "name": "python3"
  },
  "language_info": {
   "codemirror_mode": {
    "name": "ipython",
    "version": 3
   },
   "file_extension": ".py",
   "mimetype": "text/x-python",
   "name": "python",
   "nbconvert_exporter": "python",
   "pygments_lexer": "ipython3",
   "version": "3.6.5"
  }
 },
 "nbformat": 4,
 "nbformat_minor": 2
}
