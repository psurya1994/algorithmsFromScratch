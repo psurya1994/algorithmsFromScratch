{
 "cells": [
  {
   "cell_type": "markdown",
   "metadata": {},
   "source": [
    "# Principal component analysis"
   ]
  },
  {
   "cell_type": "markdown",
   "metadata": {},
   "source": [
    "The complete proof for PCA is complicated [1] [2]. It needs to be done analytically. So here we are going to use the analytical results we get directly for implementing PCA. Given the complexity of the proof, it is also hard to get an intuitive feel for why the following equations used work.\n",
    "\n",
    "Ref: \n",
    "1. Andrew Ng's Coursera course on ML\n",
    "2. DeepLearningBook, Ch.2.12"
   ]
  },
  {
   "cell_type": "code",
   "execution_count": 1,
   "metadata": {
    "collapsed": false
   },
   "outputs": [],
   "source": [
    "# Importing required libs\n",
    "import numpy as np\n",
    "import matplotlib.pyplot as plt\n",
    "%matplotlib inline"
   ]
  },
  {
   "cell_type": "code",
   "execution_count": 2,
   "metadata": {
    "collapsed": true
   },
   "outputs": [],
   "source": [
    "# Creating dataset to work with: let us have a collection of m points, each of which is a vector of length n\n",
    "m = 100 # number of points\n",
    "n = 10 # length of each vector\n",
    "X = np.random.rand(m, n) * 10"
   ]
  },
  {
   "cell_type": "code",
   "execution_count": 3,
   "metadata": {
    "collapsed": true
   },
   "outputs": [],
   "source": [
    "# Finding the eigen values and vectors of X^T * X\n",
    "eigVals, eigVecs = np.linalg.eig(np.matmul(X.T, X))"
   ]
  },
  {
   "cell_type": "code",
   "execution_count": 4,
   "metadata": {
    "collapsed": false
   },
   "outputs": [],
   "source": [
    "# Sort eigen values and vectors\n",
    "ascendingInds = np.argsort(eigVals)\n",
    "descendingInds = ascendingInds[::-1]"
   ]
  },
  {
   "cell_type": "code",
   "execution_count": 5,
   "metadata": {
    "collapsed": false
   },
   "outputs": [],
   "source": [
    "# Rearranging eigVals and eigVecs based on the above findings\n",
    "eigVals = eigVals[descendingInds]\n",
    "eigVecs = eigVecs[:,descendingInds]"
   ]
  },
  {
   "cell_type": "code",
   "execution_count": 6,
   "metadata": {
    "collapsed": false
   },
   "outputs": [],
   "source": [
    "# Choosing number of components for PCA\n",
    "l = 5 # number of principle components\n",
    "D = eigVecs[:, :l]"
   ]
  },
  {
   "cell_type": "code",
   "execution_count": 7,
   "metadata": {
    "collapsed": false
   },
   "outputs": [],
   "source": [
    "# Encoding\n",
    "coded = D.T @ X.T # need to transpose X because the convention in the textbook used for X is (n x m)"
   ]
  },
  {
   "cell_type": "code",
   "execution_count": 8,
   "metadata": {
    "collapsed": false
   },
   "outputs": [
    {
     "name": "stdout",
     "output_type": "stream",
     "text": [
      "(10, 100)\n"
     ]
    }
   ],
   "source": [
    "# Decoding\n",
    "reconst = D @ coded\n",
    "print(reconst.shape)"
   ]
  },
  {
   "cell_type": "code",
   "execution_count": 9,
   "metadata": {
    "collapsed": false
   },
   "outputs": [
    {
     "name": "stdout",
     "output_type": "stream",
     "text": [
      "183.5441297 55.954034743\n"
     ]
    }
   ],
   "source": [
    "# norm and reconstruction error\n",
    "print(np.linalg.norm(X), np.linalg.norm(X.T-reconst))"
   ]
  },
  {
   "cell_type": "markdown",
   "metadata": {},
   "source": [
    "## Everything written in single function"
   ]
  },
  {
   "cell_type": "code",
   "execution_count": 10,
   "metadata": {
    "collapsed": true
   },
   "outputs": [],
   "source": [
    "def encodePCA(X, noOfComps):\n",
    "    \n",
    "    # Finding the eigen values and vectors of X^T * X\n",
    "    eigVals, eigVecs = np.linalg.eig(np.matmul(X.T, X))\n",
    "    \n",
    "    # Sort eigen values and vectors\n",
    "    ascendingInds = np.argsort(eigVals)\n",
    "    descendingInds = ascendingInds[::-1]\n",
    "    \n",
    "    # Rearranging eigVals and eigVecs based on the above findings\n",
    "    eigVals = eigVals[descendingInds]\n",
    "    eigVecs = eigVecs[:,descendingInds]\n",
    "    \n",
    "    D = eigVecs[:, :noOfComps]\n",
    "    \n",
    "    # Encoding\n",
    "    coded = D.T @ X.T\n",
    "    \n",
    "    return coded, D\n",
    "    \n",
    "def decodePCA(c, D):\n",
    "    \n",
    "    # Decoding\n",
    "    return D @ c"
   ]
  },
  {
   "cell_type": "markdown",
   "metadata": {},
   "source": [
    "## Using the functions above"
   ]
  },
  {
   "cell_type": "code",
   "execution_count": 11,
   "metadata": {
    "collapsed": false
   },
   "outputs": [
    {
     "name": "stdout",
     "output_type": "stream",
     "text": [
      "(5, 100) (10, 5)\n"
     ]
    }
   ],
   "source": [
    "c, D = encodePCA(X, 5)\n",
    "print(c.shape, D.shape)\n",
    "XReconstructed = decodePCA(c, D)"
   ]
  },
  {
   "cell_type": "markdown",
   "metadata": {},
   "source": [
    "## Doing above in a loop for various no of comps and plotting results"
   ]
  },
  {
   "cell_type": "code",
   "execution_count": 12,
   "metadata": {
    "collapsed": false
   },
   "outputs": [
    {
     "data": {
      "image/png": "[encoded data removed]",
      "text/plain": [
       "<matplotlib.figure.Figure at 0x7fdf59418898>"
      ]
     },
     "metadata": {},
     "output_type": "display_data"
    }
   ],
   "source": [
    "reconsError = []\n",
    "Xnorm = []\n",
    "for i in range(1, 11):\n",
    "    c, D = encodePCA(X, i)\n",
    "    XReconstructed = decodePCA(c, D)\n",
    "    reconsError.append(np.linalg.norm(X.T-XReconstructed))\n",
    "    Xnorm.append(np.linalg.norm(X))\n",
    "    \n",
    "plt.figure(figsize=(18,6))\n",
    "plt.plot(range(1, 11), reconsError, '.-', label='ReconstructionLoss')\n",
    "plt.plot(range(1, 11), Xnorm, '.-', label='Xnorm')\n",
    "plt.xlabel('No of principle components')\n",
    "plt.ylabel('Loss')\n",
    "plt.legend();plt.show()"
   ]
  },
  {
   "cell_type": "code",
   "execution_count": null,
   "metadata": {
    "collapsed": true
   },
   "outputs": [],
   "source": []
  }
 ],
 "metadata": {
  "kernelspec": {
   "display_name": "Python 3",
   "language": "python",
   "name": "python3"
  },
  "language_info": {
   "codemirror_mode": {
    "name": "ipython",
    "version": 3
   },
   "file_extension": ".py",
   "mimetype": "text/x-python",
   "name": "python",
   "nbconvert_exporter": "python",
   "pygments_lexer": "ipython3",
   "version": "3.6.0"
  }
 },
 "nbformat": 4,
 "nbformat_minor": 2
}
